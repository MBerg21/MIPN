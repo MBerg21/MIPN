{
 "cells": [
  {
   "cell_type": "markdown",
   "metadata": {},
   "source": [
    "  <style>\n",
    "    .container {\n",
    "      display: flex;\n",
    "      justify-content: space-between;\n",
    "      align-items: center;\n",
    "    }\n",
    "\n",
    "    .text {\n",
    "      width: 95%;\n",
    "       text-align: center;\n",
    "    }\n",
    "\n",
    "    .image {\n",
    "      width: 5%;\n",
    "      text-align: center; \n",
    "    }\n",
    "\n",
    "    \n",
    "    .image img {\n",
    "      max-width: 100%;\n",
    "      height: auto;\n",
    "    }\n",
    "  </style> \n",
    "  \n",
    "  <div class=\"container\">\n",
    "    <div class=\"image\">\n",
    "      <img src=\"https://upload.wikimedia.org/wikipedia/commons/thumb/3/3a/Logo_KIT.svg/1200px-Logo_KIT.svg.png\" width=100 height=50/>\n",
    "    </div>\n",
    "        <div class=\"text\">\n",
    "      <h1> Medical Image Processing and Navigation 2024/25</h1>\n",
    "    </div>\n",
    "  </div>\n",
    "\n",
    "\n",
    "---\n",
    "\n",
    "<center>\n",
    "<h2>Multi Atlas Based Segmentation (MABS)</h2> \n",
    "<center><img src=\"https://d3i71xaburhd42.cloudfront.net/6fb13081e034b919f52b30a1b953328349c0c877/2-Figure1-1.png\"></center>\n",
    "\n",
    "---\n",
    "\n",
    "<center>\n",
    "Lecturer: <b><i>Ciro Benito Raggio</i></b> \n",
    "<br/>\n",
    "<a><href>https://www.ibt.kit.edu/english/Raggio_C.php</href></a>"
   ]
  },
  {
   "cell_type": "markdown",
   "metadata": {},
   "source": [
    "Atlas-based segmentation exploits knowledge from previously labeled training images to segment the target image. \n",
    "\n",
    "Multi-atlas segmentation methods map all labeled images onto the target image, which helps to reduce segmentation errors."
   ]
  },
  {
   "cell_type": "code",
   "execution_count": null,
   "metadata": {},
   "outputs": [],
   "source": [
    "import numpy as np\n",
    "import os\n",
    "import SimpleITK as sitk\n",
    "import matplotlib.pyplot as plt"
   ]
  },
  {
   "cell_type": "code",
   "execution_count": null,
   "metadata": {},
   "outputs": [],
   "source": [
    "def bin_img(img):\n",
    "    img = img.astype(np.float32)\n",
    "    img -= img.min()\n",
    "    img /= img.max()\n",
    "    return img.astype(np.uint8)"
   ]
  },
  {
   "cell_type": "markdown",
   "metadata": {},
   "source": [
    "## Choose the structure to segment"
   ]
  },
  {
   "cell_type": "code",
   "execution_count": null,
   "metadata": {},
   "outputs": [],
   "source": [
    "print(f\"Structures available: {os.listdir('./assets/data/MABS/patient/')}\")"
   ]
  },
  {
   "cell_type": "code",
   "execution_count": null,
   "metadata": {},
   "outputs": [],
   "source": [
    "structure = \"mandible\"\n",
    "selected_slice = 70"
   ]
  },
  {
   "cell_type": "markdown",
   "metadata": {},
   "source": [
    "Start by reading the patient's CT and reference frame"
   ]
  },
  {
   "cell_type": "code",
   "execution_count": null,
   "metadata": {},
   "outputs": [],
   "source": [
    "ct_sikt = sitk.ReadImage(\"./assets/data/MABS/patient/CT.nrrd\")\n",
    "ct = sitk.GetArrayFromImage(ct_sikt)\n",
    "\n",
    "structure_sitk = sitk.ReadImage(f\"./assets/data/MABS/patient/{structure}.nrrd\")\n",
    "structure_bin = bin_img(sitk.GetArrayFromImage(structure_sitk))\n",
    "\n",
    "plt.imshow(ct[selected_slice, :, :], cmap=\"gray\")\n",
    "plt.imshow(structure_bin[selected_slice, :, :], cmap=\"Greens\", alpha=0.5)"
   ]
  },
  {
   "cell_type": "markdown",
   "metadata": {},
   "source": [
    "## Step 1 - Load the structures of interest from the atlases available"
   ]
  },
  {
   "cell_type": "code",
   "execution_count": null,
   "metadata": {},
   "outputs": [],
   "source": [
    "deformed_structs = []\n",
    "deformed_sitk_structs = []\n",
    "\n",
    "atlases_path = \"./assets/data/MABS/\"\n",
    "\n",
    "# Filter all the atlases in the specified folder\n",
    "atlases = list(filter(lambda dirname: \"atl\" in dirname,\n",
    "               os.listdir(atlases_path)))\n",
    "\n",
    "print(f\"Found {len(atlases)} atlases!\\nAtlases' names:{atlases}\")\n",
    "\n",
    "for atlas_index in range(1, len(atlases)+1):\n",
    "    def_stru_sitk = sitk.ReadImage(\n",
    "        f\"./assets/data/MABS/atl{atlas_index}/{structure}.nrrd\")\n",
    "    deformed_sitk_structs.append(def_stru_sitk)\n",
    "    def_stru = bin_img(sitk.GetArrayFromImage(def_stru_sitk))\n",
    "    deformed_structs.append(def_stru)\n",
    "\n",
    "print(f\"Found {len(deformed_structs)} deformed structures!\")"
   ]
  },
  {
   "cell_type": "markdown",
   "metadata": {},
   "source": [
    "Let's see what structures are loaded by the atlases"
   ]
  },
  {
   "cell_type": "code",
   "execution_count": null,
   "metadata": {},
   "outputs": [],
   "source": [
    "f, axarr = plt.subplots(1, len(deformed_structs), figsize=(15, 10))\n",
    "\n",
    "for i, deformed_struct in enumerate(deformed_structs):\n",
    "    img = axarr[i].imshow(deformed_struct[selected_slice, :, :])\n",
    "    axarr[i].set_title(f\"atl{i} - {structure}\")\n",
    "\n",
    "plt.tight_layout()\n",
    "plt.subplots_adjust(wspace=0, hspace=0)"
   ]
  },
  {
   "cell_type": "markdown",
   "metadata": {},
   "source": [
    "## Step 2 - Majority voting\n",
    "\n",
    "<center><img src=\"https://1.bp.blogspot.com/-wnwx3mulVkU/YKo9a7ocMqI/AAAAAAAACZQ/h8lBb3BNFr8ZN0rNHkpYV6pZfoFk-ugzwCLcBGAsYHQ/s760/Majority.png\" /></center>"
   ]
  },
  {
   "cell_type": "markdown",
   "metadata": {},
   "source": [
    "To perform majority voting, we will iterate over all the deformed structures, accumulating votes for each voxel."
   ]
  },
  {
   "cell_type": "code",
   "execution_count": null,
   "metadata": {},
   "outputs": [],
   "source": [
    "voted_structs = np.zeros_like(structure_bin)\n",
    "for def_stru in deformed_structs:\n",
    "    voted_structs += def_stru\n",
    "\n",
    "plt.imshow(voted_structs[selected_slice, :, :], cmap=\"gray\")"
   ]
  },
  {
   "cell_type": "markdown",
   "metadata": {},
   "source": [
    "At this point a strategy could be to understand what the maximum votes are for a voxel, which in our case corresponds to the total number of deformed structures available"
   ]
  },
  {
   "cell_type": "code",
   "execution_count": null,
   "metadata": {},
   "outputs": [],
   "source": [
    "voted_structs.max()"
   ]
  },
  {
   "cell_type": "markdown",
   "metadata": {},
   "source": [
    "Knowing that, in this case, a voxel can have been voted on a maximum of 6 times, we can choose to form the final mask only from the voxels that have been voted on at least N times"
   ]
  },
  {
   "cell_type": "code",
   "execution_count": null,
   "metadata": {},
   "outputs": [],
   "source": [
    "min_votes = 4\n",
    "threshold_voted_structure = voted_structs >= min_votes\n",
    "plt.imshow(threshold_voted_structure[selected_slice, :, :], cmap=\"gray\")"
   ]
  },
  {
   "cell_type": "markdown",
   "metadata": {},
   "source": [
    "## Simultaneous Truth and Performance Level Estimation (STAPLE)\n",
    "\n",
    "The STAPLE procedure uses the **expectation-maximization algorithm** to iteratively estimate the quality of the individual segmentations. The final segmentation is then computed with these individual segmentation qualities taken into account by weighting the decisions made by a reliable segmentation algorithm higher than ones made by a less reliable algorithm.\n",
    "\n",
    "SimpleITK makes the STAPLE procedure available under the name STAPLEImageFilter. We can use it to automate majority voting and achieve final segmentation."
   ]
  },
  {
   "cell_type": "code",
   "execution_count": null,
   "metadata": {},
   "outputs": [],
   "source": [
    "staple_procedure = sitk.STAPLEImageFilter()\n",
    "\n",
    "# In input we must pass the deformed structures as SITK objects and not as arrays\n",
    "staple_sitk_voted = staple_procedure.Execute(deformed_sitk_structs)\n",
    "\n",
    "# Now we can convert the object obtained into an array with SITK and display the result\n",
    "staple_voted = sitk.GetArrayFromImage(staple_sitk_voted)\n",
    "\n",
    "plt.imshow(staple_voted[selected_slice, :, :], cmap=\"gray\")"
   ]
  },
  {
   "cell_type": "markdown",
   "metadata": {},
   "source": [
    "We can compare the two results obtained on the starting CT"
   ]
  },
  {
   "cell_type": "code",
   "execution_count": null,
   "metadata": {},
   "outputs": [],
   "source": [
    "f, axarr = plt.subplots(1, 2, figsize=(15, 10))\n",
    "\n",
    "img = axarr[0].imshow(ct[selected_slice, :, :], cmap=\"gray\")\n",
    "img = axarr[0].imshow(threshold_voted_structure.astype(\n",
    "    int)[selected_slice, :, :], cmap=\"Greens\", alpha=0.5)\n",
    "axarr[0].set_title(f\"Threshold MABS result\")\n",
    "\n",
    "img = axarr[1].imshow(ct[selected_slice, :, :], cmap=\"gray\")\n",
    "img = axarr[1].imshow(staple_voted[selected_slice, :, :],\n",
    "                      cmap=\"Greens\", alpha=0.5)\n",
    "axarr[1].set_title(f\"STAPLE MABS result\")\n",
    "\n",
    "plt.tight_layout()\n",
    "plt.subplots_adjust(wspace=0, hspace=0)"
   ]
  },
  {
   "cell_type": "markdown",
   "metadata": {},
   "source": [
    "# Threshold vs. STAPLE: who is better?\n",
    "We have therefore obtained two apparently very similar results, but which of these two best adapts to the patient's original structure?\n",
    "We can find out thanks to the Jaccard (IoU) and Dice coefficients!\n",
    "\n",
    "<center><img src=\"https://ilmonteux.github.io/assets/images/segmentation/metrics_iou_dice.png\" /></center> "
   ]
  },
  {
   "cell_type": "markdown",
   "metadata": {},
   "source": [
    "We calculate the Dice between the segmentation obtained with the thresholding and the patient's structure.\n",
    "SITK also makes this metric available, we just need to instantiate the LabelOverlapMeasuresImageFilter type overlapper and call the getDiceCoefficient method."
   ]
  },
  {
   "cell_type": "code",
   "execution_count": null,
   "metadata": {},
   "outputs": [],
   "source": [
    "def dice(mask1, mask2):\n",
    "    intersect = np.sum(mask1*mask2)\n",
    "    fsum = np.sum(mask1)\n",
    "    ssum = np.sum(mask2)\n",
    "    dice = (2 * intersect) / (fsum + ssum)\n",
    "    dice = np.mean(dice)\n",
    "    dice = round(dice, 4)\n",
    "    return dice"
   ]
  },
  {
   "cell_type": "code",
   "execution_count": null,
   "metadata": {},
   "outputs": [],
   "source": [
    "def jaccard(im1, im2):\n",
    "    \"\"\"\n",
    "    Computes the Jaccard metric, a measure of set similarity.\n",
    "    Parameters\n",
    "    ----------\n",
    "    im1 : array-like, bool\n",
    "        Any array of arbitrary size. If not boolean, will be converted.\n",
    "    im2 : array-like, bool\n",
    "        Any other array of identical size. If not boolean, will be converted.\n",
    "    Returns\n",
    "    -------\n",
    "    jaccard : float\n",
    "        Jaccard metric returned is a float on range [0,1].\n",
    "        Maximum similarity = 1\n",
    "        No similarity = 0\n",
    "\n",
    "    Notes\n",
    "    -----\n",
    "    The order of inputs for `jaccard` is irrelevant. The result will be\n",
    "    identical if `im1` and `im2` are switched.\n",
    "    \"\"\"\n",
    "    im1 = np.asarray(im1)\n",
    "    im2 = np.asarray(im2)\n",
    "\n",
    "    if im1.shape != im2.shape:\n",
    "        raise ValueError(\n",
    "            \"Shape mismatch: im1 and im2 must have the same shape.\")\n",
    "\n",
    "    intersection = np.logical_and(im1, im2)\n",
    "\n",
    "    union = np.logical_or(im1, im2)\n",
    "\n",
    "    return intersection.sum() / float(union.sum())"
   ]
  },
  {
   "cell_type": "code",
   "execution_count": null,
   "metadata": {},
   "outputs": [],
   "source": [
    "gt_sitk = sitk.ReadImage(f\"./assets/data/MABS/patient/{structure}.nrrd\")\n",
    "gt_array = sitk.GetArrayFromImage(gt_sitk)\n",
    "bin_staple_voted = bin_img(staple_voted)\n",
    "\n",
    "threshold_mabs_dice = dice(gt_array, threshold_voted_structure.astype(int))\n",
    "staple_mabs_dice = dice(gt_array, bin_staple_voted)\n",
    "\n",
    "print(\n",
    "    f\"Threshold MABS Dice coefficient: {threshold_mabs_dice}\\nSTAPLE MABS Dice coefficient: {staple_mabs_dice}\")"
   ]
  },
  {
   "cell_type": "code",
   "execution_count": null,
   "metadata": {},
   "outputs": [],
   "source": [
    "threshold_mabs_iou = jaccard(gt_array, threshold_voted_structure.astype(int))\n",
    "staple_mabs_iou = jaccard(gt_array, bin_staple_voted)\n",
    "\n",
    "print(\n",
    "    f\"Threshold MABS Jaccard coefficient: {threshold_mabs_iou}\\nSTAPLE MABS Jaccard coefficient: {staple_mabs_iou}\")"
   ]
  },
  {
   "cell_type": "markdown",
   "metadata": {},
   "source": [
    "# Exercise 📚\n",
    "\n",
    "Implement a method to determine the optimal number of votes needed to obtain the best results in multi-atlas segmentation, assessed by similarity metrics (Dice and Jaccard). Based on the results obtained for each structure and the time taken to run the algorithm, a total score will be calculated that equally weighs time and similarity performance."
   ]
  },
  {
   "cell_type": "code",
   "execution_count": null,
   "metadata": {},
   "outputs": [],
   "source": [
    "from typing import Tuple\n",
    "import SimpleITK as sitk\n",
    "import os\n",
    "import numpy as np\n",
    "from time import time \n",
    "\n",
    "def get_best_threshold(gt_array, atlas_root, structures) -> Tuple[int, dict]:\n",
    "    \"\"\"Find the optimal number of votes to have the best result in terms of Dice and Jaccard.\n",
    "\n",
    "    Args:\n",
    "        gt_array (np.array): ground truth segmentation\n",
    "        atlas_root\n",
    "    Returns:\n",
    "        optimal number of votes (int)\n",
    "        metrics(dict): a dictionary containing the metrics\n",
    "    \"\"\"\n",
    "    return NotImplementedError\n"
   ]
  },
  {
   "cell_type": "code",
   "execution_count": null,
   "metadata": {},
   "outputs": [],
   "source": [
    "structures = [\"mandible\", \"left_parotid\", \"right_parotid\"]\n",
    "selected_slice = 71\n",
    "start_time = time()\n",
    "best_votes, best_scores = get_best_threshold(\"./assets/data/MABS/patient/\", \"./assets/data/MABS/\", structures)\n",
    "end_time = time()\n",
    "execution_time = end_time - start_time\n",
    "\n",
    "def calculate_total_score(results, execution_time, max_time=10.0) -> float:\n",
    "    sim_scores = [(res['dice'] + res['jaccard']) / 2 for key,res in results.items()]\n",
    "    avg_sim_score = sum(sim_scores) / len(sim_scores)  \n",
    "    time_score = max(0, 1 - (execution_time / max_time))\n",
    "    total_score = (avg_sim_score * 0.5) + (time_score * 0.5)\n",
    "    return total_score * 100\n",
    "\n",
    "\n",
    "print(\"Atlas-Based Segmentation Metrics:\")\n",
    "\n",
    "for structure in structures:\n",
    "    print(f\"Structure: {structure}\")\n",
    "    print(f\"  Optimal Threshold: {best_votes[structure]}\")\n",
    "    print(f\"  Best Scores: {best_scores[structure]}\")\n",
    "    \n",
    "print(f\"Execution Time: {execution_time:.2f} seconds\")\n",
    "print(calculate_total_score(best_scores, execution_time))"
   ]
  },
  {
   "cell_type": "markdown",
   "metadata": {},
   "source": [
    "## References\n",
    "[Wachinger C, Golland P. Atlas-based under-segmentation. Med Image Comput Comput Assist Interv. 2014;17(Pt 1):315-22. doi: 10.1007/978-3-319-10404-1_40. PMID: 25333133; PMCID: PMC4219918.](https://www.ncbi.nlm.nih.gov/pmc/articles/PMC4219918/#:~:text=Atlas%2Dbased%20segmentation%20exploits%20knowledge,6%2C8%2C11%5D.)\n",
    "\n",
    "[Mitchell, H.B. (2010). STAPLE: Simultaneous Truth and Performance Level Estimation. In: Image Fusion. Springer, Berlin, Heidelberg. https://doi.org/10.1007/978-3-642-11216-4_21](https://link.springer.com/chapter/10.1007/978-3-642-11216-4_21)\n",
    "\n",
    "[Jaccard coefficient](https://gist.github.com/JDWarner/6730886)"
   ]
  }
 ],
 "metadata": {
  "kernelspec": {
   "display_name": "ascc",
   "language": "python",
   "name": "python3"
  },
  "language_info": {
   "codemirror_mode": {
    "name": "ipython",
    "version": 3
   },
   "file_extension": ".py",
   "mimetype": "text/x-python",
   "name": "python",
   "nbconvert_exporter": "python",
   "pygments_lexer": "ipython3",
   "version": "3.11.5"
  }
 },
 "nbformat": 4,
 "nbformat_minor": 2
}
